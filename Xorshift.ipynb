{
  "nbformat": 4,
  "nbformat_minor": 0,
  "metadata": {
    "colab": {
      "name": "Xorshift.ipynb",
      "provenance": [],
      "collapsed_sections": []
    },
    "kernelspec": {
      "name": "python3",
      "display_name": "Python 3"
    },
    "language_info": {
      "name": "python"
    }
  },
  "cells": [
    {
      "cell_type": "code",
      "execution_count": null,
      "metadata": {
        "colab": {
          "base_uri": "https://localhost:8080/"
        },
        "id": "X0px7vzBifgY",
        "outputId": "d200443a-0fe9-498f-8320-590ae6f1fcea"
      },
      "outputs": [
        {
          "output_type": "stream",
          "name": "stdout",
          "text": [
            "26168919\n",
            "3330082558\n",
            "3120578245\n",
            "2966055230\n",
            "3410785414\n",
            "3844657639\n",
            "1583689105\n",
            "3171237114\n",
            "356878232\n",
            "3057765182\n"
          ]
        }
      ],
      "source": [
        "def xorshift128():\n",
        "    '''xorshift\n",
        "    https://ja.wikipedia.org/wiki/Xorshift\n",
        "    '''\n",
        "\n",
        "    x = 12789\n",
        "    y = 362436069\n",
        "    z = 5212629\n",
        "    w = 88123\n",
        "\n",
        "    def _random():\n",
        "        nonlocal x, y, z, w\n",
        "        t = x ^ ((x << 11) & 0xFFFFFFFF)  # 32bit\n",
        "        x, y, z = y, z, w\n",
        "        w = (w ^ (w >> 19)) ^ (t ^ (t >> 8))\n",
        "        return w\n",
        "\n",
        "    return _random\n",
        "\n",
        "\n",
        "def main():\n",
        "\n",
        "    r = xorshift128()\n",
        "\n",
        "    for i in range(10):\n",
        "        print(r())\n",
        "\n",
        "\n",
        "if __name__ == '__main__':\n",
        "    main()"
      ]
    },
    {
      "cell_type": "code",
      "source": [
        "xorshift_seed = 100000000\n",
        "\n",
        "def xorshift():\n",
        "  global xorshift_seed\n",
        "  xorshift_seed ^= xorshift_seed << 13\n",
        "  xorshift_seed ^= xorshift_seed >> 17\n",
        "  xorshift_seed ^= xorshift_seed << 5\n",
        "  xorshift_seed %= int(\"ffffffff\", 16) # The modulus limits it to a 32-bit number\n",
        "  return xorshift_seed\n",
        "\n",
        "xorshift() % 20"
      ],
      "metadata": {
        "colab": {
          "base_uri": "https://localhost:8080/"
        },
        "id": "OtgSMWHhoPTx",
        "outputId": "a82c1908-97b3-43de-e042-9154d6842d02"
      },
      "execution_count": null,
      "outputs": [
        {
          "output_type": "execute_result",
          "data": {
            "text/plain": [
              "15"
            ]
          },
          "metadata": {},
          "execution_count": 21
        }
      ]
    }
  ]
}