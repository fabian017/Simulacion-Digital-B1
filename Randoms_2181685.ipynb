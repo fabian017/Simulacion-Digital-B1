{
  "nbformat": 4,
  "nbformat_minor": 0,
  "metadata": {
    "colab": {
      "name": "Randoms-2181685.ipynb",
      "provenance": []
    },
    "kernelspec": {
      "name": "python3",
      "display_name": "Python 3"
    },
    "language_info": {
      "name": "python"
    }
  },
  "cells": [
    {
      "cell_type": "markdown",
      "source": [
        "Librerias necesarias\n"
      ],
      "metadata": {
        "id": "rA0gPX8mm0XL"
      }
    },
    {
      "cell_type": "code",
      "source": [
        "import numpy as np\n",
        "import math"
      ],
      "metadata": {
        "id": "nWP_GWjsm0lC"
      },
      "execution_count": null,
      "outputs": []
    },
    {
      "cell_type": "markdown",
      "source": [
        "Poisson Random Variable"
      ],
      "metadata": {
        "id": "j5Q5PPdPk1ts"
      }
    },
    {
      "cell_type": "code",
      "execution_count": null,
      "metadata": {
        "id": "aAiwn9l9kcG7"
      },
      "outputs": [],
      "source": [
        "def poisson(lamda):\n",
        "  U=np.random.uniform(0,1)\n",
        "  i=0\n",
        "  p=np.exp(-lamda)\n",
        "  F=p\n",
        "  while U>F:\n",
        "    p=(lamda*p)/(i+1)\n",
        "    F+=p\n",
        "    i+=1\n",
        "  return i"
      ]
    },
    {
      "cell_type": "code",
      "source": [
        "for i in range(10):\n",
        "  print(poisson(3))"
      ],
      "metadata": {
        "colab": {
          "base_uri": "https://localhost:8080/"
        },
        "id": "9UWxBqycoWSg",
        "outputId": "62bd8523-b238-4b70-be42-b6558494ad89"
      },
      "execution_count": null,
      "outputs": [
        {
          "output_type": "stream",
          "name": "stdout",
          "text": [
            "2\n",
            "2\n",
            "1\n",
            "2\n",
            "2\n",
            "3\n",
            "3\n",
            "5\n",
            "1\n",
            "1\n"
          ]
        }
      ]
    },
    {
      "cell_type": "markdown",
      "source": [
        "Binomial random variable\n"
      ],
      "metadata": {
        "id": "8RUXbN5Cr8Hn"
      }
    },
    {
      "cell_type": "code",
      "source": [
        "def binomial(p,n):\n",
        "  U=np.random.uniform(0,1)\n",
        "  c=p/(1-p)\n",
        "  i=0\n",
        "  pr=math.pow((1-p),n)\n",
        "  F=pr\n",
        "  while U>F:\n",
        "    pr=(c*(n-i)/(i+1))*pr\n",
        "    F+=pr\n",
        "    i+=1\n",
        "  return i"
      ],
      "metadata": {
        "id": "r2zwRp82r7yy"
      },
      "execution_count": null,
      "outputs": []
    },
    {
      "cell_type": "code",
      "source": [
        "binomial(0.4,7)"
      ],
      "metadata": {
        "colab": {
          "base_uri": "https://localhost:8080/"
        },
        "id": "SS-OWfE71KcN",
        "outputId": "77754c21-53eb-4419-e347-366370dd677d"
      },
      "execution_count": null,
      "outputs": [
        {
          "output_type": "execute_result",
          "data": {
            "text/plain": [
              "3"
            ]
          },
          "metadata": {},
          "execution_count": 75
        }
      ]
    }
  ]
}