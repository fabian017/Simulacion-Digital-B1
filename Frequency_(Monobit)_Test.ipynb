{
  "nbformat": 4,
  "nbformat_minor": 0,
  "metadata": {
    "colab": {
      "name": "Frequency-(Monobit) -Test.ipynb",
      "provenance": [],
      "collapsed_sections": []
    },
    "kernelspec": {
      "name": "python3",
      "display_name": "Python 3"
    },
    "language_info": {
      "name": "python"
    }
  },
  "cells": [
    {
      "cell_type": "code",
      "execution_count": 3,
      "metadata": {
        "id": "6sSL9gRIS-xK",
        "colab": {
          "base_uri": "https://localhost:8080/"
        },
        "outputId": "285db58a-109f-401c-ce3d-70e8fbe708e4"
      },
      "outputs": [
        {
          "output_type": "stream",
          "name": "stdout",
          "text": [
            "Collecting coinflip\n",
            "  Downloading coinflip-0.1.5-py3-none-any.whl (55 kB)\n",
            "\u001b[?25l\r\u001b[K     |█████▉                          | 10 kB 24.0 MB/s eta 0:00:01\r\u001b[K     |███████████▊                    | 20 kB 28.5 MB/s eta 0:00:01\r\u001b[K     |█████████████████▋              | 30 kB 27.1 MB/s eta 0:00:01\r\u001b[K     |███████████████████████▌        | 40 kB 10.8 MB/s eta 0:00:01\r\u001b[K     |█████████████████████████████▍  | 51 kB 11.9 MB/s eta 0:00:01\r\u001b[K     |████████████████████████████████| 55 kB 3.7 MB/s \n",
            "\u001b[?25hRequirement already satisfied: click<8.0.0,>=7.1.2 in /usr/local/lib/python3.7/dist-packages (from coinflip) (7.1.2)\n",
            "Requirement already satisfied: sortedcontainers<3.0.0,>=2.3.0 in /usr/local/lib/python3.7/dist-packages (from coinflip) (2.4.0)\n",
            "Requirement already satisfied: numpy<2.0.0,>=1.19.4 in /usr/local/lib/python3.7/dist-packages (from coinflip) (1.21.6)\n",
            "Requirement already satisfied: altair<5.0.0,>=4.1.0 in /usr/local/lib/python3.7/dist-packages (from coinflip) (4.2.0)\n",
            "Requirement already satisfied: pandas<2.0.0,>=1.1.4 in /usr/local/lib/python3.7/dist-packages (from coinflip) (1.3.5)\n",
            "Collecting rich<10.0.0,>=9.2.0\n",
            "  Downloading rich-9.13.0-py3-none-any.whl (197 kB)\n",
            "\u001b[K     |████████████████████████████████| 197 kB 19.6 MB/s \n",
            "\u001b[?25hCollecting scipy<2.0.0,>=1.5.4\n",
            "  Downloading scipy-1.7.3-cp37-cp37m-manylinux_2_12_x86_64.manylinux2010_x86_64.whl (38.1 MB)\n",
            "\u001b[K     |████████████████████████████████| 38.1 MB 291 kB/s \n",
            "\u001b[?25hCollecting typing-extensions<4.0.0,>=3.7.4\n",
            "  Downloading typing_extensions-3.10.0.2-py3-none-any.whl (26 kB)\n",
            "Requirement already satisfied: Jinja2<3.0.0,>=2.11.2 in /usr/local/lib/python3.7/dist-packages (from coinflip) (2.11.3)\n",
            "Requirement already satisfied: jsonschema>=3.0 in /usr/local/lib/python3.7/dist-packages (from altair<5.0.0,>=4.1.0->coinflip) (4.3.3)\n",
            "Requirement already satisfied: toolz in /usr/local/lib/python3.7/dist-packages (from altair<5.0.0,>=4.1.0->coinflip) (0.11.2)\n",
            "Requirement already satisfied: entrypoints in /usr/local/lib/python3.7/dist-packages (from altair<5.0.0,>=4.1.0->coinflip) (0.4)\n",
            "Requirement already satisfied: MarkupSafe>=0.23 in /usr/local/lib/python3.7/dist-packages (from Jinja2<3.0.0,>=2.11.2->coinflip) (2.0.1)\n",
            "Requirement already satisfied: importlib-metadata in /usr/local/lib/python3.7/dist-packages (from jsonschema>=3.0->altair<5.0.0,>=4.1.0->coinflip) (4.11.3)\n",
            "Requirement already satisfied: attrs>=17.4.0 in /usr/local/lib/python3.7/dist-packages (from jsonschema>=3.0->altair<5.0.0,>=4.1.0->coinflip) (21.4.0)\n",
            "Requirement already satisfied: pyrsistent!=0.17.0,!=0.17.1,!=0.17.2,>=0.14.0 in /usr/local/lib/python3.7/dist-packages (from jsonschema>=3.0->altair<5.0.0,>=4.1.0->coinflip) (0.18.1)\n",
            "Requirement already satisfied: importlib-resources>=1.4.0 in /usr/local/lib/python3.7/dist-packages (from jsonschema>=3.0->altair<5.0.0,>=4.1.0->coinflip) (5.7.1)\n",
            "Requirement already satisfied: zipp>=3.1.0 in /usr/local/lib/python3.7/dist-packages (from importlib-resources>=1.4.0->jsonschema>=3.0->altair<5.0.0,>=4.1.0->coinflip) (3.8.0)\n",
            "Requirement already satisfied: pytz>=2017.3 in /usr/local/lib/python3.7/dist-packages (from pandas<2.0.0,>=1.1.4->coinflip) (2022.1)\n",
            "Requirement already satisfied: python-dateutil>=2.7.3 in /usr/local/lib/python3.7/dist-packages (from pandas<2.0.0,>=1.1.4->coinflip) (2.8.2)\n",
            "Requirement already satisfied: six>=1.5 in /usr/local/lib/python3.7/dist-packages (from python-dateutil>=2.7.3->pandas<2.0.0,>=1.1.4->coinflip) (1.15.0)\n",
            "Collecting commonmark<0.10.0,>=0.9.0\n",
            "  Downloading commonmark-0.9.1-py2.py3-none-any.whl (51 kB)\n",
            "\u001b[K     |████████████████████████████████| 51 kB 5.9 MB/s \n",
            "\u001b[?25hCollecting colorama<0.5.0,>=0.4.0\n",
            "  Downloading colorama-0.4.4-py2.py3-none-any.whl (16 kB)\n",
            "Requirement already satisfied: pygments<3.0.0,>=2.6.0 in /usr/local/lib/python3.7/dist-packages (from rich<10.0.0,>=9.2.0->coinflip) (2.6.1)\n",
            "Installing collected packages: typing-extensions, commonmark, colorama, scipy, rich, coinflip\n",
            "  Attempting uninstall: typing-extensions\n",
            "    Found existing installation: typing-extensions 4.2.0\n",
            "    Uninstalling typing-extensions-4.2.0:\n",
            "      Successfully uninstalled typing-extensions-4.2.0\n",
            "  Attempting uninstall: scipy\n",
            "    Found existing installation: scipy 1.4.1\n",
            "    Uninstalling scipy-1.4.1:\n",
            "      Successfully uninstalled scipy-1.4.1\n",
            "\u001b[31mERROR: pip's dependency resolver does not currently take into account all the packages that are installed. This behaviour is the source of the following dependency conflicts.\n",
            "tensorflow 2.8.0 requires tf-estimator-nightly==2.8.0.dev2021122109, which is not installed.\n",
            "albumentations 0.1.12 requires imgaug<0.2.7,>=0.2.5, but you have imgaug 0.2.9 which is incompatible.\u001b[0m\n",
            "Successfully installed coinflip-0.1.5 colorama-0.4.4 commonmark-0.9.1 rich-9.13.0 scipy-1.7.3 typing-extensions-3.10.0.2\n"
          ]
        }
      ],
      "source": [
        "!pip install coinflip"
      ]
    },
    {
      "cell_type": "code",
      "source": [
        "from random import getrandbits\n",
        "\n",
        "RNG_output = [getrandbits(1) for _ in range(1000)]\n",
        "\n",
        "example = \"\".join(str(x) for x in RNG_output[:24])\n",
        "print(f\"Esta prueba de aleatoriedad solo acepta secuencias binarias, ejemplo: {example}\")"
      ],
      "metadata": {
        "colab": {
          "base_uri": "https://localhost:8080/"
        },
        "id": "heZ5zK1kWmoI",
        "outputId": "59c18bf9-721c-494d-9fa7-a2369f56bee3"
      },
      "execution_count": 4,
      "outputs": [
        {
          "output_type": "stream",
          "name": "stdout",
          "text": [
            "Esta prueba de aleatoriedad solo acepta secuencias binarias, ejemplo: 111110010011000110101000\n"
          ]
        }
      ]
    },
    {
      "cell_type": "code",
      "source": [
        "from coinflip.randtests import monobit\n",
        "\n",
        "result = monobit(RNG_output)\n",
        "print(result)"
      ],
      "metadata": {
        "colab": {
          "base_uri": "https://localhost:8080/"
        },
        "id": "Ds_Om2tFW9t-",
        "outputId": "c04a0765-b06a-494e-829d-65196470729c"
      },
      "execution_count": 5,
      "outputs": [
        {
          "output_type": "stream",
          "name": "stdout",
          "text": [
            "result\n",
            "  normalised diff  3\n",
            "  p-value          0.003\n",
            "\n",
            "┌───────┬───────┐\n",
            "│ value │ count │\n",
            "├───────┼───────┤\n",
            "│ 1     │   547 │\n",
            "│ 0     │   453 │\n",
            "└───────┴───────┘\n",
            "\n"
          ]
        }
      ]
    },
    {
      "cell_type": "code",
      "source": [
        "siglevel = 0.01\n",
        "outcome = \"Aprobo\" if result.p > siglevel else \"Fallo\"\n",
        "print(f\"Esta secuencia aleatoria  {outcome} El test de frecuencia monobit\")"
      ],
      "metadata": {
        "colab": {
          "base_uri": "https://localhost:8080/"
        },
        "id": "5QkQI95hXTnb",
        "outputId": "9e6e9f5f-ff23-492a-9649-2038327d2ccf"
      },
      "execution_count": 6,
      "outputs": [
        {
          "output_type": "stream",
          "name": "stdout",
          "text": [
            "Esta secuencia aleatoria  Fallo El test de frecuencia monobit\n"
          ]
        }
      ]
    },
    {
      "cell_type": "code",
      "source": [
        "result.plot_counts()"
      ],
      "metadata": {
        "colab": {
          "base_uri": "https://localhost:8080/",
          "height": 381
        },
        "id": "bl34ZjtGXxv2",
        "outputId": "c9c0c090-3dff-4362-d3e8-d2bb9cb658f0"
      },
      "execution_count": 7,
      "outputs": [
        {
          "output_type": "execute_result",
          "data": {
            "text/html": [
              "\n",
              "<div id=\"altair-viz-9992a993616c4462a7b3fcb0aa607759\"></div>\n",
              "<script type=\"text/javascript\">\n",
              "  var VEGA_DEBUG = (typeof VEGA_DEBUG == \"undefined\") ? {} : VEGA_DEBUG;\n",
              "  (function(spec, embedOpt){\n",
              "    let outputDiv = document.currentScript.previousElementSibling;\n",
              "    if (outputDiv.id !== \"altair-viz-9992a993616c4462a7b3fcb0aa607759\") {\n",
              "      outputDiv = document.getElementById(\"altair-viz-9992a993616c4462a7b3fcb0aa607759\");\n",
              "    }\n",
              "    const paths = {\n",
              "      \"vega\": \"https://cdn.jsdelivr.net/npm//vega@5?noext\",\n",
              "      \"vega-lib\": \"https://cdn.jsdelivr.net/npm//vega-lib?noext\",\n",
              "      \"vega-lite\": \"https://cdn.jsdelivr.net/npm//vega-lite@4.17.0?noext\",\n",
              "      \"vega-embed\": \"https://cdn.jsdelivr.net/npm//vega-embed@6?noext\",\n",
              "    };\n",
              "\n",
              "    function maybeLoadScript(lib, version) {\n",
              "      var key = `${lib.replace(\"-\", \"\")}_version`;\n",
              "      return (VEGA_DEBUG[key] == version) ?\n",
              "        Promise.resolve(paths[lib]) :\n",
              "        new Promise(function(resolve, reject) {\n",
              "          var s = document.createElement('script');\n",
              "          document.getElementsByTagName(\"head\")[0].appendChild(s);\n",
              "          s.async = true;\n",
              "          s.onload = () => {\n",
              "            VEGA_DEBUG[key] = version;\n",
              "            return resolve(paths[lib]);\n",
              "          };\n",
              "          s.onerror = () => reject(`Error loading script: ${paths[lib]}`);\n",
              "          s.src = paths[lib];\n",
              "        });\n",
              "    }\n",
              "\n",
              "    function showError(err) {\n",
              "      outputDiv.innerHTML = `<div class=\"error\" style=\"color:red;\">${err}</div>`;\n",
              "      throw err;\n",
              "    }\n",
              "\n",
              "    function displayChart(vegaEmbed) {\n",
              "      vegaEmbed(outputDiv, spec, embedOpt)\n",
              "        .catch(err => showError(`Javascript Error: ${err.message}<br>This usually means there's a typo in your chart specification. See the javascript console for the full traceback.`));\n",
              "    }\n",
              "\n",
              "    if(typeof define === \"function\" && define.amd) {\n",
              "      requirejs.config({paths});\n",
              "      require([\"vega-embed\"], displayChart, err => showError(`Error loading script: ${err.message}`));\n",
              "    } else {\n",
              "      maybeLoadScript(\"vega\", \"5\")\n",
              "        .then(() => maybeLoadScript(\"vega-lite\", \"4.17.0\"))\n",
              "        .then(() => maybeLoadScript(\"vega-embed\", \"6\"))\n",
              "        .catch(showError)\n",
              "        .then(() => displayChart(vegaEmbed));\n",
              "    }\n",
              "  })({\"config\": {\"view\": {\"continuousWidth\": 400, \"continuousHeight\": 300}}, \"data\": {\"name\": \"data-cb7ad708b6c53643432b55a74286428f\"}, \"mark\": \"bar\", \"encoding\": {\"tooltip\": {\"field\": \"Count\", \"type\": \"quantitative\"}, \"x\": {\"field\": \"Value\", \"type\": \"nominal\"}, \"y\": {\"axis\": {\"tickMinStep\": 1}, \"field\": \"Count\", \"type\": \"quantitative\"}}, \"title\": \"Counts of 1 and 0\", \"$schema\": \"https://vega.github.io/schema/vega-lite/v4.17.0.json\", \"datasets\": {\"data-cb7ad708b6c53643432b55a74286428f\": [{\"Value\": 1, \"Count\": 547}, {\"Value\": 0, \"Count\": 453}]}}, {\"mode\": \"vega-lite\"});\n",
              "</script>"
            ],
            "text/plain": [
              "alt.Chart(...)"
            ]
          },
          "metadata": {},
          "execution_count": 7
        }
      ]
    },
    {
      "cell_type": "code",
      "source": [
        "\n",
        "\n",
        "difference = result.counts.tails.count - result.counts.heads.count\n",
        "print(f\"difference = {result.counts.tails.count} - {result.counts.heads.count}\")\n",
        "print(f\"           = {difference}\")"
      ],
      "metadata": {
        "colab": {
          "base_uri": "https://localhost:8080/"
        },
        "id": "QO5UpKmfX5oc",
        "outputId": "4a4c05e8-8e71-4931-e72c-f90dad748de9"
      },
      "execution_count": 8,
      "outputs": [
        {
          "output_type": "stream",
          "name": "stdout",
          "text": [
            "difference = 453 - 547\n",
            "           = -94\n"
          ]
        }
      ]
    },
    {
      "cell_type": "code",
      "source": [
        "result.plot_refdist()"
      ],
      "metadata": {
        "colab": {
          "base_uri": "https://localhost:8080/",
          "height": 385
        },
        "id": "G5gqfUY7aFgW",
        "outputId": "2c7a102f-5c42-4be7-8df3-540556dd0749"
      },
      "execution_count": 9,
      "outputs": [
        {
          "output_type": "execute_result",
          "data": {
            "text/html": [
              "\n",
              "<div id=\"altair-viz-d972448d83c74167bfbb2d95d0f8087d\"></div>\n",
              "<script type=\"text/javascript\">\n",
              "  var VEGA_DEBUG = (typeof VEGA_DEBUG == \"undefined\") ? {} : VEGA_DEBUG;\n",
              "  (function(spec, embedOpt){\n",
              "    let outputDiv = document.currentScript.previousElementSibling;\n",
              "    if (outputDiv.id !== \"altair-viz-d972448d83c74167bfbb2d95d0f8087d\") {\n",
              "      outputDiv = document.getElementById(\"altair-viz-d972448d83c74167bfbb2d95d0f8087d\");\n",
              "    }\n",
              "    const paths = {\n",
              "      \"vega\": \"https://cdn.jsdelivr.net/npm//vega@5?noext\",\n",
              "      \"vega-lib\": \"https://cdn.jsdelivr.net/npm//vega-lib?noext\",\n",
              "      \"vega-lite\": \"https://cdn.jsdelivr.net/npm//vega-lite@4.17.0?noext\",\n",
              "      \"vega-embed\": \"https://cdn.jsdelivr.net/npm//vega-embed@6?noext\",\n",
              "    };\n",
              "\n",
              "    function maybeLoadScript(lib, version) {\n",
              "      var key = `${lib.replace(\"-\", \"\")}_version`;\n",
              "      return (VEGA_DEBUG[key] == version) ?\n",
              "        Promise.resolve(paths[lib]) :\n",
              "        new Promise(function(resolve, reject) {\n",
              "          var s = document.createElement('script');\n",
              "          document.getElementsByTagName(\"head\")[0].appendChild(s);\n",
              "          s.async = true;\n",
              "          s.onload = () => {\n",
              "            VEGA_DEBUG[key] = version;\n",
              "            return resolve(paths[lib]);\n",
              "          };\n",
              "          s.onerror = () => reject(`Error loading script: ${paths[lib]}`);\n",
              "          s.src = paths[lib];\n",
              "        });\n",
              "    }\n",
              "\n",
              "    function showError(err) {\n",
              "      outputDiv.innerHTML = `<div class=\"error\" style=\"color:red;\">${err}</div>`;\n",
              "      throw err;\n",
              "    }\n",
              "\n",
              "    function displayChart(vegaEmbed) {\n",
              "      vegaEmbed(outputDiv, spec, embedOpt)\n",
              "        .catch(err => showError(`Javascript Error: ${err.message}<br>This usually means there's a typo in your chart specification. See the javascript console for the full traceback.`));\n",
              "    }\n",
              "\n",
              "    if(typeof define === \"function\" && define.amd) {\n",
              "      requirejs.config({paths});\n",
              "      require([\"vega-embed\"], displayChart, err => showError(`Error loading script: ${err.message}`));\n",
              "    } else {\n",
              "      maybeLoadScript(\"vega\", \"5\")\n",
              "        .then(() => maybeLoadScript(\"vega-lite\", \"4.17.0\"))\n",
              "        .then(() => maybeLoadScript(\"vega-embed\", \"6\"))\n",
              "        .catch(showError)\n",
              "        .then(() => displayChart(vegaEmbed));\n",
              "    }\n",
              "  })({\"config\": {\"view\": {\"continuousWidth\": 400, \"continuousHeight\": 300}}, \"layer\": [{\"data\": {\"name\": \"data-38aa177d9ee8ed6eb6a01438b8976e11\"}, \"mark\": {\"type\": \"area\", \"opacity\": 0.3}, \"encoding\": {\"x\": {\"axis\": {\"title\": \"Difference between counts (normalised)\"}, \"field\": \"x\", \"type\": \"quantitative\"}, \"y\": {\"axis\": {\"title\": \"Probability density\"}, \"field\": \"y\", \"scale\": {\"domain\": [0, 1]}, \"type\": \"quantitative\"}}, \"title\": \"Proability density of count differences\"}, {\"data\": {\"name\": \"data-8400d10353ec4857e73e6f51707d2738\"}, \"mark\": \"area\", \"encoding\": {\"x\": {\"field\": \"x\", \"type\": \"quantitative\"}, \"y\": {\"field\": \"y\", \"type\": \"quantitative\"}}}], \"$schema\": \"https://vega.github.io/schema/vega-lite/v4.17.0.json\", \"datasets\": {\"data-38aa177d9ee8ed6eb6a01438b8976e11\": [{\"x\": 0.0, \"y\": 0.7978845608028654}, {\"x\": 0.08163265306122448, \"y\": 0.7952304773970785}, {\"x\": 0.16326530612244897, \"y\": 0.7873210810706174}, {\"x\": 0.24489795918367346, \"y\": 0.774313183141599}, {\"x\": 0.32653061224489793, \"y\": 0.7564623822650112}, {\"x\": 0.4081632653061224, \"y\": 0.734114712721227}, {\"x\": 0.4897959183673469, \"y\": 0.707695492270385}, {\"x\": 0.5714285714285714, \"y\": 0.6776958715135751}, {\"x\": 0.6530612244897959, \"y\": 0.6446576784812313}, {\"x\": 0.7346938775510203, \"y\": 0.609157210357219}, {\"x\": 0.8163265306122448, \"y\": 0.571788646542539}, {\"x\": 0.8979591836734693, \"y\": 0.5331477437680672}, {\"x\": 0.9795918367346939, \"y\": 0.493816427087092}, {\"x\": 1.0612244897959182, \"y\": 0.45434881474994626}, {\"x\": 1.1428571428571428, \"y\": 0.415259116230401}, {\"x\": 1.2244897959183672, \"y\": 0.3770117281756302}, {\"x\": 1.3061224489795917, \"y\": 0.34001373045064864}, {\"x\": 1.3877551020408163, \"y\": 0.3046098613580617}, {\"x\": 1.4693877551020407, \"y\": 0.27107993457419666}, {\"x\": 1.5510204081632653, \"y\": 0.23963855637757298}, {\"x\": 1.6326530612244896, \"y\": 0.21043691503786008}, {\"x\": 1.7142857142857142, \"y\": 0.1835663479282161}, {\"x\": 1.7959183673469385, \"y\": 0.1590633475676676}, {\"x\": 1.8775510204081631, \"y\": 0.1369156454049889}, {\"x\": 1.9591836734693877, \"y\": 0.11706901037065362}, {\"x\": 2.0408163265306123, \"y\": 0.09943441558831444}, {\"x\": 2.1224489795918364, \"y\": 0.08389525788612069}, {\"x\": 2.204081632653061, \"y\": 0.07031435713510678}, {\"x\": 2.2857142857142856, \"y\": 0.058540512058321545}, {\"x\": 2.36734693877551, \"y\": 0.048414442214435104}, {\"x\": 2.4489795918367343, \"y\": 0.039773998935396855}, {\"x\": 2.530612244897959, \"y\": 0.03245857819345995}, {\"x\": 2.6122448979591835, \"y\": 0.026312713433075823}, {\"x\": 2.693877551020408, \"y\": 0.021188864757330516}, {\"x\": 2.7755102040816326, \"y\": 0.01694945160908524}, {\"x\": 2.8571428571428568, \"y\": 0.0134681989504605}, {\"x\": 2.9387755102040813, \"y\": 0.010630882159667863}, {\"x\": 3.020408163265306, \"y\": 0.008335564079999478}, {\"x\": 3.1020408163265305, \"y\": 0.0064924198097108775}, {\"x\": 3.1836734693877546, \"y\": 0.0050232420226490795}, {\"x\": 3.265306122448979, \"y\": 0.0038607130318164804}, {\"x\": 3.346938775510204, \"y\": 0.002947520601331884}, {\"x\": 3.4285714285714284, \"y\": 0.002235383732963688}, {\"x\": 3.510204081632653, \"y\": 0.0016840432173193638}, {\"x\": 3.591836734693877, \"y\": 0.0012602603945957305}, {\"x\": 3.6734693877551017, \"y\": 0.0009368568857679755}, {\"x\": 3.7551020408163263, \"y\": 0.0006918184300361676}, {\"x\": 3.836734693877551, \"y\": 0.0005074776394345195}, {\"x\": 3.9183673469387754, \"y\": 0.0003697835640822937}, {\"x\": 4.0, \"y\": 0.00026766045152977074}], \"data-8400d10353ec4857e73e6f51707d2738\": [{\"x\": 2.9725410005582766, \"y\": 0.00962115121404394}, {\"x\": 2.9935095515672914, \"y\": 0.00903778578102499}, {\"x\": 3.014478102576306, \"y\": 0.008486059946174967}, {\"x\": 3.035446653585321, \"y\": 0.007964512474039079}, {\"x\": 3.0564152045943356, \"y\": 0.007471733059895765}, {\"x\": 3.0773837556033503, \"y\": 0.007006361602558015}, {\"x\": 3.098352306612365, \"y\": 0.006567087415123793}, {\"x\": 3.11932085762138, \"y\": 0.00615264837953029}, {\"x\": 3.1402894086303945, \"y\": 0.005761830050570231}, {\"x\": 3.1612579596394097, \"y\": 0.005393464714826069}, {\"x\": 3.1822265106484244, \"y\": 0.005046430409768693}, {\"x\": 3.203195061657439, \"y\": 0.004719649908053908}, {\"x\": 3.224163612666454, \"y\": 0.004412089671832955}, {\"x\": 3.2451321636754686, \"y\": 0.00412275878167362}, {\"x\": 3.2661007146844834, \"y\": 0.0038507078444675567}, {\"x\": 3.287069265693498, \"y\": 0.0035950278844776}, {\"x\": 3.308037816702513, \"y\": 0.0033548492214577194}, {\"x\": 3.3290063677115276, \"y\": 0.0031293403395579885}, {\"x\": 3.3499749187205423, \"y\": 0.0029177067505085927}, {\"x\": 3.370943469729557, \"y\": 0.0027191898543614153}, {\"x\": 3.391912020738572, \"y\": 0.002533065800855188}, {\"x\": 3.4128805717475865, \"y\": 0.002358644354261784}, {\"x\": 3.4338491227566013, \"y\": 0.002195267764367021}, {\"x\": 3.454817673765616, \"y\": 0.002042309646040143}, {\"x\": 3.475786224774631, \"y\": 0.001899173869652165}, {\"x\": 3.4967547757836455, \"y\": 0.0017652934644150672}, {\"x\": 3.5177233267926606, \"y\": 0.001640129536531429}, {\"x\": 3.5386918778016754, \"y\": 0.0015231702038683668}, {\"x\": 3.55966042881069, \"y\": 0.001413929548699889}, {\"x\": 3.580628979819705, \"y\": 0.001311946589899312}, {\"x\": 3.6015975308287196, \"y\": 0.001216784275807328}, {\"x\": 3.6225660818377343, \"y\": 0.0011280284988524308}, {\"x\": 3.643534632846749, \"y\": 0.0010452871328585358}, {\"x\": 3.664503183855764, \"y\": 0.000968189093839756}, {\"x\": 3.6854717348647785, \"y\": 0.0008963834249545641}, {\"x\": 3.7064402858737933, \"y\": 0.0008295384061708288}, {\"x\": 3.727408836882808, \"y\": 0.0007673406890794862}, {\"x\": 3.7483773878918227, \"y\": 0.0007094944571877679}, {\"x\": 3.7693459389008375, \"y\": 0.0006557206119228933}, {\"x\": 3.7903144899098526, \"y\": 0.0006057559844837554}, {\"x\": 3.811283040918867, \"y\": 0.0005593525735913379}, {\"x\": 3.832251591927882, \"y\": 0.0005162768091081067}, {\"x\": 3.8532201429368964, \"y\": 0.00047630884142244023}, {\"x\": 3.8741886939459116, \"y\": 0.00043924185642581096}, {\"x\": 3.8951572449549263, \"y\": 0.0004048814158481173}, {\"x\": 3.916125795963941, \"y\": 0.0003730448226596059}, {\"x\": 3.937094346972956, \"y\": 0.00034356051119646946}, {\"x\": 3.9580628979819705, \"y\": 0.00031626746162084584}, {\"x\": 3.9790314489909853, \"y\": 0.00029101463828462093}, {\"x\": 4.0, \"y\": 0.00026766045152977074}]}}, {\"mode\": \"vega-lite\"});\n",
              "</script>"
            ],
            "text/plain": [
              "alt.LayerChart(...)"
            ]
          },
          "metadata": {},
          "execution_count": 9
        }
      ]
    },
    {
      "cell_type": "code",
      "source": [
        "print(f\"p-value = erfc({round(result.statistic, 3)} / sqrt(2)) // erfc es la funcion de error complementario\")\n",
        "print(f\"        = {round(result.p, 3)}\")\n",
        "print()\n",
        "\n",
        "percentage = \"{:.1%}\".format(result.p)\n",
        "print(f\"Encontrar la probabilidad acumulada de que un RNG verdadero tenga tal diferencia o mayor llega a la probabilidad resultante de {percentage}\")\n",
        "print()\n",
        "\n",
        "reject = \"podria\" if result.p > siglevel else \"NO podria\"\n",
        "print(f\"Con un nivel de significancia de {siglevel}, usted {reject} rechazar la hipotesis que dice que la secuencia no es random.\")"
      ],
      "metadata": {
        "colab": {
          "base_uri": "https://localhost:8080/"
        },
        "id": "6OrPrfLvaIHt",
        "outputId": "0e565b51-3d0a-46bd-ef4a-22c80b03d00c"
      },
      "execution_count": 10,
      "outputs": [
        {
          "output_type": "stream",
          "name": "stdout",
          "text": [
            "p-value = erfc(2.973 / sqrt(2)) // erfc es la funcion de error complementario\n",
            "        = 0.003\n",
            "\n",
            "Encontrar la probabilidad acumulada de que un RNG verdadero tenga tal diferencia o mayor llega a la probabilidad resultante de 0.3%\n",
            "\n",
            "Con un nivel de significancia de 0.01, usted NO podria rechazar la hipotesis que dice que la secuencia no es random.\n"
          ]
        }
      ]
    }
  ]
}